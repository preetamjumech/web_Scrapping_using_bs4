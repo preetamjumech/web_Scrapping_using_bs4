{
 "cells": [
  {
   "cell_type": "code",
   "execution_count": 1,
   "id": "56738303",
   "metadata": {},
   "outputs": [],
   "source": [
    "url_init = \"https://www.bankbazaar.com/reviews.html?reviewPageNumber=\""
   ]
  },
  {
   "cell_type": "code",
   "execution_count": 2,
   "id": "92d51658",
   "metadata": {},
   "outputs": [],
   "source": [
    "from bs4 import BeautifulSoup\n",
    "import urllib"
   ]
  },
  {
   "cell_type": "code",
   "execution_count": 3,
   "id": "0ffbce91",
   "metadata": {},
   "outputs": [],
   "source": [
    "url = url_init + str(3)"
   ]
  },
  {
   "cell_type": "code",
   "execution_count": 4,
   "id": "7fb2beb2",
   "metadata": {},
   "outputs": [],
   "source": [
    "headers ={\"User-Agent\":\"Mozilla/5.0 (Windows NT 10.0; Win64; x64) AppleWebKit/537.36 (KHTML, like Gecko) Chrome/105.0.0.0 Safari/537.36\"}"
   ]
  },
  {
   "cell_type": "code",
   "execution_count": 5,
   "id": "06e05e62",
   "metadata": {},
   "outputs": [],
   "source": [
    "req = urllib.request.Request(url=url,headers=headers)"
   ]
  },
  {
   "cell_type": "code",
   "execution_count": 6,
   "id": "6efc722d",
   "metadata": {},
   "outputs": [],
   "source": [
    "doc = urllib.request.urlopen(req).read().decode(\"UTF-8\")"
   ]
  },
  {
   "cell_type": "code",
   "execution_count": 7,
   "id": "2b19be02",
   "metadata": {},
   "outputs": [
    {
     "data": {
      "text/plain": [
       "'<!DOCTYPE html>\\n<html lang=\"en-IN\">\\n<head>\\n    <title>Page 3 of 50 for Reviews of All Bank Reviews o'"
      ]
     },
     "execution_count": 7,
     "metadata": {},
     "output_type": "execute_result"
    }
   ],
   "source": [
    "doc[:100]"
   ]
  },
  {
   "cell_type": "code",
   "execution_count": 8,
   "id": "7c895fcb",
   "metadata": {},
   "outputs": [],
   "source": [
    "bsObj = BeautifulSoup(doc)"
   ]
  },
  {
   "cell_type": "code",
   "execution_count": 11,
   "id": "be9bd69d",
   "metadata": {},
   "outputs": [],
   "source": [
    "only_reviews = bsObj.find_all(name = \"div\" , attrs= {\"class\" : \"text_here review-desc-more\" })"
   ]
  },
  {
   "cell_type": "code",
   "execution_count": 12,
   "id": "c25a3447",
   "metadata": {},
   "outputs": [
    {
     "data": {
      "text/plain": [
       "<div class=\"text_here review-desc-more\" itemprop=\"description\">\n",
       "                                I have paid first bill payment for SBI card without any issue. But at that time they have intimated of 8K Yatra voucher but still I didn't get it. So I contacted the banker twice for voucher issue but there is no proper response from their end. It is an annual fee chargeable card of 499 plus GST and it will be reverse in first bill payment but not done yet. The credit limit is sufficient. </div>"
      ]
     },
     "execution_count": 12,
     "metadata": {},
     "output_type": "execute_result"
    }
   ],
   "source": [
    "only_reviews[0]"
   ]
  },
  {
   "cell_type": "code",
   "execution_count": 13,
   "id": "18607dbd",
   "metadata": {},
   "outputs": [
    {
     "data": {
      "text/plain": [
       "20"
      ]
     },
     "execution_count": 13,
     "metadata": {},
     "output_type": "execute_result"
    }
   ],
   "source": [
    "len(only_reviews)"
   ]
  },
  {
   "cell_type": "code",
   "execution_count": 15,
   "id": "21fbc38f",
   "metadata": {},
   "outputs": [],
   "source": [
    "only_reviews_text = [x.text for x in only_reviews]"
   ]
  },
  {
   "cell_type": "code",
   "execution_count": 16,
   "id": "b8d1a5e1",
   "metadata": {},
   "outputs": [
    {
     "data": {
      "text/plain": [
       "20"
      ]
     },
     "execution_count": 16,
     "metadata": {},
     "output_type": "execute_result"
    }
   ],
   "source": [
    "len(only_reviews_text)"
   ]
  },
  {
   "cell_type": "code",
   "execution_count": 17,
   "id": "4824d858",
   "metadata": {},
   "outputs": [
    {
     "data": {
      "text/plain": [
       "\"\\n                                I have paid first bill payment for SBI card without any issue. But at that time they have intimated of 8K Yatra voucher but still I didn't get it. So I contacted the banker twice for voucher issue but there is no proper response from their end. It is an annual fee chargeable card of 499 plus GST and it will be reverse in first bill payment but not done yet. The credit limit is sufficient. \""
      ]
     },
     "execution_count": 17,
     "metadata": {},
     "output_type": "execute_result"
    }
   ],
   "source": [
    "only_reviews_text[0]"
   ]
  },
  {
   "cell_type": "code",
   "execution_count": 20,
   "id": "933b47a0",
   "metadata": {},
   "outputs": [],
   "source": [
    "containers = bsObj.find_all(name = \"li\", attrs = {\"class\":\"review-box\"})"
   ]
  },
  {
   "cell_type": "code",
   "execution_count": 21,
   "id": "35b0b318",
   "metadata": {},
   "outputs": [],
   "source": [
    "containers_0 = containers[0]"
   ]
  },
  {
   "cell_type": "code",
   "execution_count": 22,
   "id": "c2a74626",
   "metadata": {},
   "outputs": [
    {
     "data": {
      "text/plain": [
       "<li class=\"review-box\">\n",
       "<div class=\"review-bank-title\">\n",
       "<img alt=\"SBI Cards\" height=\"20\" loading=\"lazy\" src=\"https://static.bankbazaar.com/images/common/bank-logo/sbi-cards-2.png\" title=\"SBI Cards\" width=\"61\"/>\n",
       "</div>\n",
       "<a class=\"user-review-comment js-individual-title\" data-action=\"click:titleLink\" data-actionloc=\"reviews:ReviewCards\" href=\"/showUserReviews-1353839-SBI_CARDS-CREDIT_CARD.html\" target=\"_blank\" title=\"Need to improve their service \">\"Need to improve their service \"</a>\n",
       "<div class=\"dontshow\" itemscope=\"\" itemtype=\"http://schema.org/Brand\">\n",
       "<span itemprop=\"name\">\n",
       "                                            SBI CARDS</span>\n",
       "</div>\n",
       "<div class=\"rating-section review-user-score\">\n",
       "<div class=\"medium-rating rating review-score-container\" id=\"review.reviewRating.customer.0\">\n",
       "<span class=\"star-rating star-rating-1-0\"></span>\n",
       "<input name=\"review.reviewRating.customer.0\" type=\"hidden\" value=\"1.0\"/>\n",
       "</div> <span> <span class=\"dontshow\">0.5</span>\n",
       "<span>1.0</span>/<span>5</span></span> \"Really Bad\"\n",
       "                            </div>\n",
       "<div class=\"text_here review-desc-more\" itemprop=\"description\">\n",
       "                                I have paid first bill payment for SBI card without any issue. But at that time they have intimated of 8K Yatra voucher but still I didn't get it. So I contacted the banker twice for voucher issue but there is no proper response from their end. It is an annual fee chargeable card of 499 plus GST and it will be reverse in first bill payment but not done yet. The credit limit is sufficient. </div>\n",
       "<div class=\"review-question js-asking\">\n",
       "                                        Was this review helpful?\n",
       "                                    <button class=\"review-yes-btn js-voteup\" data-review-id=\"1353839\" data-vote-count=\"29\">Yes</button>\n",
       "<span class=\"review-likes-box\"> 29</span>\n",
       "</div>\n",
       "<div class=\"reviewer-profile\" content=\"2020-03-21\" itemprop=\"datepublished\">\n",
       "<span class=\"js-author-name\" itemprop=\"author\">NILESH </span>\n",
       "                                    , surat<br/>\n",
       "                                    Reviewed on Mar 21, 2020</div>\n",
       "</li>"
      ]
     },
     "execution_count": 22,
     "metadata": {},
     "output_type": "execute_result"
    }
   ],
   "source": [
    "containers_0"
   ]
  },
  {
   "cell_type": "code",
   "execution_count": 25,
   "id": "9152a07c",
   "metadata": {},
   "outputs": [
    {
     "data": {
      "text/plain": [
       "<a class=\"user-review-comment js-individual-title\" data-action=\"click:titleLink\" data-actionloc=\"reviews:ReviewCards\" href=\"/showUserReviews-1353839-SBI_CARDS-CREDIT_CARD.html\" target=\"_blank\" title=\"Need to improve their service \">\"Need to improve their service \"</a>"
      ]
     },
     "execution_count": 25,
     "metadata": {},
     "output_type": "execute_result"
    }
   ],
   "source": [
    "xx = containers_0.find(name = \"a\", attrs = {\"class\":\"user-review-comment js-individual-title\"})\n",
    "xx                                          "
   ]
  },
  {
   "cell_type": "code",
   "execution_count": 26,
   "id": "aac4e5b6",
   "metadata": {},
   "outputs": [
    {
     "data": {
      "text/plain": [
       "['Need to improve their service ']"
      ]
     },
     "execution_count": 26,
     "metadata": {},
     "output_type": "execute_result"
    }
   ],
   "source": [
    "xx.get_attribute_list(\"title\")"
   ]
  },
  {
   "cell_type": "code",
   "execution_count": 27,
   "id": "9c3d65a1",
   "metadata": {},
   "outputs": [
    {
     "data": {
      "text/plain": [
       "<a class=\"user-review-comment js-individual-title\" data-action=\"click:titleLink\" data-actionloc=\"reviews:ReviewCards\" href=\"/showUserReviews-1353839-SBI_CARDS-CREDIT_CARD.html\" target=\"_blank\" title=\"Need to improve their service \">\"Need to improve their service \"</a>"
      ]
     },
     "execution_count": 27,
     "metadata": {},
     "output_type": "execute_result"
    }
   ],
   "source": [
    "yy = bsObj.find(name = \"a\", attrs = {\"class\":\"user-review-comment js-individual-title\"})\n",
    "yy"
   ]
  },
  {
   "cell_type": "code",
   "execution_count": 29,
   "id": "be19ddab",
   "metadata": {},
   "outputs": [
    {
     "data": {
      "text/plain": [
       "['Need to improve their service ']"
      ]
     },
     "execution_count": 29,
     "metadata": {},
     "output_type": "execute_result"
    }
   ],
   "source": [
    "yy.get_attribute_list(\"title\")"
   ]
  },
  {
   "cell_type": "code",
   "execution_count": 35,
   "id": "6878d1bd",
   "metadata": {},
   "outputs": [
    {
     "data": {
      "text/plain": [
       "'\"Need to improve their service \"'"
      ]
     },
     "execution_count": 35,
     "metadata": {},
     "output_type": "execute_result"
    }
   ],
   "source": [
    "yy.text"
   ]
  },
  {
   "cell_type": "code",
   "execution_count": 36,
   "id": "744a8f08",
   "metadata": {},
   "outputs": [
    {
     "data": {
      "text/plain": [
       "'\"Need to improve their service \"'"
      ]
     },
     "execution_count": 36,
     "metadata": {},
     "output_type": "execute_result"
    }
   ],
   "source": [
    "txt = yy.text.strip()\n",
    "txt"
   ]
  },
  {
   "cell_type": "code",
   "execution_count": 34,
   "id": "fa8d335f",
   "metadata": {},
   "outputs": [
    {
     "data": {
      "text/plain": [
       "'Need to improve their service'"
      ]
     },
     "execution_count": 34,
     "metadata": {},
     "output_type": "execute_result"
    }
   ],
   "source": [
    "yy.get_attribute_list(\"title\")[0].strip()"
   ]
  },
  {
   "cell_type": "code",
   "execution_count": 37,
   "id": "dbe94e46",
   "metadata": {},
   "outputs": [
    {
     "data": {
      "text/plain": [
       "<input name=\"review.reviewRating.customer.0\" type=\"hidden\" value=\"1.0\"/>"
      ]
     },
     "execution_count": 37,
     "metadata": {},
     "output_type": "execute_result"
    }
   ],
   "source": [
    "zz = containers_0.find(name=\"input\")\n",
    "zz"
   ]
  },
  {
   "cell_type": "code",
   "execution_count": 46,
   "id": "fac21063",
   "metadata": {},
   "outputs": [
    {
     "data": {
      "text/plain": [
       "''"
      ]
     },
     "execution_count": 46,
     "metadata": {},
     "output_type": "execute_result"
    }
   ],
   "source": [
    "zz.text"
   ]
  },
  {
   "cell_type": "code",
   "execution_count": 38,
   "id": "f50ca1b6",
   "metadata": {},
   "outputs": [
    {
     "data": {
      "text/plain": [
       "['1.0']"
      ]
     },
     "execution_count": 38,
     "metadata": {},
     "output_type": "execute_result"
    }
   ],
   "source": [
    "zz.get_attribute_list(\"value\")"
   ]
  },
  {
   "cell_type": "code",
   "execution_count": 39,
   "id": "1bcb6a80",
   "metadata": {},
   "outputs": [
    {
     "data": {
      "text/plain": [
       "'1.0'"
      ]
     },
     "execution_count": 39,
     "metadata": {},
     "output_type": "execute_result"
    }
   ],
   "source": [
    "zz.get_attribute_list(\"value\")[0]"
   ]
  },
  {
   "cell_type": "code",
   "execution_count": 53,
   "id": "ac280b25",
   "metadata": {},
   "outputs": [
    {
     "data": {
      "text/plain": [
       "'\\nNILESH \\n                                    , surat\\n                                    Reviewed on Mar 21, 2020'"
      ]
     },
     "execution_count": 53,
     "metadata": {},
     "output_type": "execute_result"
    }
   ],
   "source": [
    "user_profile = containers_0.find(name = \"div\", attrs={\"class\":\"reviewer-profile\"}).text\n",
    "user_profile"
   ]
  },
  {
   "cell_type": "code",
   "execution_count": 67,
   "id": "f3d9f774",
   "metadata": {},
   "outputs": [
    {
     "data": {
      "text/plain": [
       "'\\nNILESH \\n                                    , surat\\n                                    Reviewed on Mar 21, 2020'"
      ]
     },
     "execution_count": 67,
     "metadata": {},
     "output_type": "execute_result"
    }
   ],
   "source": [
    "user_profile"
   ]
  },
  {
   "cell_type": "code",
   "execution_count": 68,
   "id": "67cc1ceb",
   "metadata": {},
   "outputs": [],
   "source": [
    "import re"
   ]
  },
  {
   "cell_type": "code",
   "execution_count": 69,
   "id": "f74a5519",
   "metadata": {},
   "outputs": [],
   "source": [
    "up = re.sub(r\"Reviewed on \",\"\",user_profile)"
   ]
  },
  {
   "cell_type": "code",
   "execution_count": 70,
   "id": "a8a1d09b",
   "metadata": {},
   "outputs": [
    {
     "data": {
      "text/plain": [
       "'\\nNILESH \\n                                    , surat\\n                                    Mar 21, 2020'"
      ]
     },
     "execution_count": 70,
     "metadata": {},
     "output_type": "execute_result"
    }
   ],
   "source": [
    "up"
   ]
  },
  {
   "cell_type": "code",
   "execution_count": 71,
   "id": "0b4866b9",
   "metadata": {},
   "outputs": [
    {
     "data": {
      "text/plain": [
       "'NILESH,suratMar21,2020'"
      ]
     },
     "execution_count": 71,
     "metadata": {},
     "output_type": "execute_result"
    }
   ],
   "source": [
    "up = re.sub(r\"\\s\",\"\",up)\n",
    "up"
   ]
  },
  {
   "cell_type": "code",
   "execution_count": 76,
   "id": "308b48f5",
   "metadata": {},
   "outputs": [
    {
     "data": {
      "text/plain": [
       "'NILESH'"
      ]
     },
     "execution_count": 76,
     "metadata": {},
     "output_type": "execute_result"
    }
   ],
   "source": [
    "re.findall(r\"[A-Z]+\",up)[0].strip()"
   ]
  },
  {
   "cell_type": "code",
   "execution_count": 78,
   "id": "3cd534f7",
   "metadata": {},
   "outputs": [
    {
     "data": {
      "text/plain": [
       "'surat'"
      ]
     },
     "execution_count": 78,
     "metadata": {},
     "output_type": "execute_result"
    }
   ],
   "source": [
    "re.findall(\"[a-z]+\",up)[0].strip()"
   ]
  },
  {
   "cell_type": "code",
   "execution_count": 80,
   "id": "daf12bd2",
   "metadata": {},
   "outputs": [
    {
     "data": {
      "text/plain": [
       "['Mar21,2020']"
      ]
     },
     "execution_count": 80,
     "metadata": {},
     "output_type": "execute_result"
    }
   ],
   "source": [
    "re.findall(r\"[A-Z][a-z]+[0-9]+,[0-9]+\",up)"
   ]
  },
  {
   "cell_type": "code",
   "execution_count": null,
   "id": "d3faf437",
   "metadata": {},
   "outputs": [],
   "source": []
  }
 ],
 "metadata": {
  "kernelspec": {
   "display_name": "Python 3",
   "language": "python",
   "name": "python3"
  },
  "language_info": {
   "codemirror_mode": {
    "name": "ipython",
    "version": 3
   },
   "file_extension": ".py",
   "mimetype": "text/x-python",
   "name": "python",
   "nbconvert_exporter": "python",
   "pygments_lexer": "ipython3",
   "version": "3.8.8"
  }
 },
 "nbformat": 4,
 "nbformat_minor": 5
}
